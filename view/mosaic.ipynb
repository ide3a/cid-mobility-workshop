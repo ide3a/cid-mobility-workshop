{
 "cells": [
  {
   "cell_type": "markdown",
   "metadata": {},
   "source": [
    "# CID Workshop 2\n",
    "\n",
    "Welcome!\n",
    "\n",
    "This notebook is the interface to a little toolbox we wrote to run and analyze Mosaik simulations for this workshop.\n",
    "\n",
    "For questions, troubleshooting and bugs please reach out to me (Ongun Türkcüoglu) via email: ongun.turkcuoglu@campus.tu-berlin.de "
   ]
  },
  {
   "cell_type": "code",
   "execution_count": 1,
   "metadata": {},
   "outputs": [],
   "source": [
    "from cid_mosaic import Mosaic"
   ]
  },
  {
   "cell_type": "markdown",
   "metadata": {},
   "source": [
    "Initialize the toolbox using the absolute path to your Eclipse MOSAIC installation, i.e. `'/home/onqi/Documents/eclipse_mosaic'`."
   ]
  },
  {
   "cell_type": "code",
   "execution_count": 2,
   "metadata": {},
   "outputs": [
    {
     "name": "stdout",
     "output_type": "stream",
     "text": [
      "Loading latest simulation result 'log-20220518-161426-Barnim'\n"
     ]
    }
   ],
   "source": [
    "mosaic = Mosaic('/view/eclipse-mosaic-22.0')"
   ]
  },
  {
   "cell_type": "markdown",
   "metadata": {},
   "source": [
    "The method `run_simulation()` will run the selected simulation and display the terminal output in the notebook.\n",
    "If you set `visualize=True`, the Mosaic visualizer will open in a new tab."
   ]
  },
  {
   "cell_type": "code",
   "execution_count": 3,
   "metadata": {},
   "outputs": [
    {
     "name": "stdout",
     "output_type": "stream",
     "text": [
      "Running: ./mosaic.sh -s Barnim\n",
      "2022-05-18 16:35:04,335 INFO  ROOT - Running Eclipse MOSAIC 22.0 on Java JRE v11.0.15 (Private Build)\n",
      "2022-05-18 16:35:04,735 INFO  FederationManagement - Start federation with id 'Barnim'\n",
      "2022-05-18 16:35:04,737 INFO  FederationManagement - Add ambassador/federate with id 'application'\n",
      "2022-05-18 16:35:04,740 INFO  FederationManagement - Add ambassador/federate with id 'environment'\n",
      "2022-05-18 16:35:04,741 INFO  FederationManagement - Add ambassador/federate with id 'mapping'\n",
      "2022-05-18 16:35:04,742 INFO  FederationManagement - Add ambassador/federate with id 'sns'\n",
      "2022-05-18 16:35:04,743 INFO  FederationManagement - Add ambassador/federate with id 'sumo'\n",
      "2022-05-18 16:35:04,745 INFO  FederationManagement - Deploying federate 'sumo' locally in ./tmp/sumo\n",
      "2022-05-18 16:35:06,522 INFO  FederationManagement - Starting federate 'sumo' locally in ./tmp/sumo\n",
      "2022-05-18 16:35:06,523 INFO  FederationManagement - Add ambassador/federate with id 'output'\n",
      "16:36:11 - Simulating: 1000000000000ns (1000.0s) - 100.0%                                                       \n",
      "2022-05-18 16:36:11,844 INFO  SequentialTimeManagement - Simulation ended after 1000s of 1000s (100%)\n",
      "2022-05-18 16:36:11,846 INFO  SequentialTimeManagement - Started: 2022-05-18 16:35:09\n",
      "2022-05-18 16:36:11,848 INFO  SequentialTimeManagement - Ended: 2022-05-18 16:36:11\n",
      "2022-05-18 16:36:11,855 INFO  SequentialTimeManagement - Duration: 00h 01m 01.931s (RTF: 16.00)\n",
      "2022-05-18 16:36:11,856 INFO  SequentialTimeManagement - \n",
      "2022-05-18 16:36:11,857 INFO  SequentialTimeManagement - Simulation finished: 101\n",
      "\n",
      "Loading latest simulation result 'log-20220518-163503-Barnim'\n"
     ]
    }
   ],
   "source": [
    "mosaic.run_simulation(visualize=False)"
   ]
  },
  {
   "cell_type": "code",
   "execution_count": 4,
   "metadata": {},
   "outputs": [
    {
     "name": "stderr",
     "output_type": "stream",
     "text": [
      "/tmp/ipykernel_49/3976899365.py:1: DtypeWarning: Columns (3,6,10) have mixed types.Specify dtype option on import or set low_memory=False.\n",
      "  mosaic.eval_simulation()\n"
     ]
    },
    {
     "name": "stdout",
     "output_type": "stream",
     "text": [
      "106 vehicles took the standard route\n",
      "14 vehicles took the alternate route\n",
      "On average a vehicle released 0.00 g CO2\n"
     ]
    },
    {
     "data": {
      "text/plain": [
       "(106, 14, 0.0)"
      ]
     },
     "execution_count": 4,
     "metadata": {},
     "output_type": "execute_result"
    }
   ],
   "source": [
    "mosaic.eval_simulation()"
   ]
  },
  {
   "cell_type": "code",
   "execution_count": null,
   "metadata": {},
   "outputs": [],
   "source": []
  }
 ],
 "metadata": {
  "kernelspec": {
   "display_name": "Python 3 (ipykernel)",
   "language": "python",
   "name": "python3"
  },
  "language_info": {
   "codemirror_mode": {
    "name": "ipython",
    "version": 3
   },
   "file_extension": ".py",
   "mimetype": "text/x-python",
   "name": "python",
   "nbconvert_exporter": "python",
   "pygments_lexer": "ipython3",
   "version": "3.8.10"
  }
 },
 "nbformat": 4,
 "nbformat_minor": 4
}