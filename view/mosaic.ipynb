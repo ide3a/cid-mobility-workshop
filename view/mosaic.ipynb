{
 "cells": [
  {
   "cell_type": "markdown",
   "metadata": {},
   "source": [
    "# CRITICAL INFRASTRUCTURE AND DIGITALISATION\n",
    "## Simulation Mobility Systems\n",
    "\n",
    "Welcome to the 2nd Workshop!\n",
    "\n",
    "This notebook is used to collect meaningful data from the simulation you will run during the workshop. The python script is structured in an object oriented way, meaning that dataframes imported from log documents are stored in a 'mosaic' object. If you think you have a good command of the programming language, you can call and manipulate them repeatedly on a new cell of jupyter notebook. \n",
    "The data we provide you with will be largely sufficient for this workshop, so you are not expected to manipulate the data again, but rather to observe how parameter changes affect the results.  However, if during your research you notice a data set with a different structure, you can edit or calculate it on this notebook.\n",
    "\n",
    "For questions, troubleshooting and bugs please reach out to Muzaffer Citir via email: muzaffer.citir@campus.tu-berlin.de or Philipp Wiesner via email: wiesner@tu-berlin.de"
   ]
  },
  {
   "cell_type": "code",
   "execution_count": 1,
   "metadata": {},
   "outputs": [],
   "source": [
    "from cid_mosaic import Mosaic"
   ]
  },
  {
   "cell_type": "markdown",
   "metadata": {},
   "source": [
    "Initialize the toolbox using the absolute path to your Eclipse MOSAIC installation."
   ]
  },
  {
   "cell_type": "code",
   "execution_count": 2,
   "metadata": {},
   "outputs": [
    {
     "name": "stdout",
     "output_type": "stream",
     "text": [
      "The path for the logs: C:\\Users\\mciti\\Documents\\Projects\\ide3a\\docker\\cid-mobility-workshop\\view\\eclipse-mosaic-22.0\\logs\n",
      "Log List size is 71\n",
      "Loading latest simulation result 'log-20220615-105514-Barnim'\n"
     ]
    }
   ],
   "source": [
    "mosaic = Mosaic(r'C:\\Users\\mciti\\Documents\\Projects\\ide3a\\docker\\cid-mobility-workshop\\view\\eclipse-mosaic-22.0', sim_speed=5000)"
   ]
  },
  {
   "cell_type": "markdown",
   "metadata": {},
   "source": [
    "The method `run_simulation()` will run the selected simulation and display the terminal output in the notebook.\n",
    "If you set `visualize=True`, the Mosaic visualizer will open in a new tab."
   ]
  },
  {
   "cell_type": "code",
   "execution_count": 3,
   "metadata": {
    "scrolled": true
   },
   "outputs": [
    {
     "name": "stdout",
     "output_type": "stream",
     "text": [
      "Running: mosaic.bat -s Barnim -b 5000\n",
      "2022-06-15 10:58:48,749 INFO  ROOT - Running Eclipse MOSAIC 22.0 on Java JRE v17.0.2 (Eclipse Adoptium)\n",
      "2022-06-15 10:58:48,848 INFO  FederationManagement - Start federation with id 'Barnim'\n",
      "2022-06-15 10:58:48,848 INFO  FederationManagement - Add ambassador/federate with id 'application'\n",
      "2022-06-15 10:58:48,849 INFO  FederationManagement - Add ambassador/federate with id 'environment'\n",
      "2022-06-15 10:58:48,849 INFO  FederationManagement - Add ambassador/federate with id 'mapping'\n",
      "2022-06-15 10:58:48,849 INFO  FederationManagement - Add ambassador/federate with id 'cell'\n",
      "2022-06-15 10:58:48,850 INFO  FederationManagement - Add ambassador/federate with id 'sns'\n",
      "2022-06-15 10:58:48,850 INFO  FederationManagement - Add ambassador/federate with id 'sumo'\n",
      "2022-06-15 10:58:48,851 INFO  FederationManagement - Deploying federate 'sumo' locally in .\\tmp\\sumo\n",
      "2022-06-15 10:58:48,864 INFO  FederationManagement - Starting federate 'sumo' locally in .\\tmp\\sumo\n",
      "2022-06-15 10:58:48,864 INFO  FederationManagement - Add ambassador/federate with id 'output'\n",
      "10:59:09 - Simulating: 1000000000000ns (1000.0s) - 100.0%                                                       \n",
      "2022-06-15 10:59:09,805 INFO  SequentialTimeManagement - Simulation ended after 1000s of 1000s (100%)\n",
      "2022-06-15 10:59:09,805 INFO  SequentialTimeManagement - Started: 2022-06-15 10:58:57\n",
      "2022-06-15 10:59:09,805 INFO  SequentialTimeManagement - Ended: 2022-06-15 10:59:09\n",
      "2022-06-15 10:59:09,806 INFO  SequentialTimeManagement - Duration: 00h 00m 12.433s (RTF: 80.00)\n",
      "2022-06-15 10:59:09,806 INFO  SequentialTimeManagement - \n",
      "2022-06-15 10:59:09,806 INFO  SequentialTimeManagement - Simulation finished: 101\n",
      "\n",
      "The path for the logs: C:\\Users\\mciti\\Documents\\Projects\\ide3a\\docker\\cid-mobility-workshop\\view\\eclipse-mosaic-22.0\\logs\n",
      "Log List size is 72\n",
      "Loading latest simulation result 'log-20220615-105848-Barnim'\n"
     ]
    }
   ],
   "source": [
    "mosaic.run_simulation(visualize=False)"
   ]
  },
  {
   "cell_type": "code",
   "execution_count": 4,
   "metadata": {},
   "outputs": [
    {
     "name": "stdout",
     "output_type": "stream",
     "text": [
      "The latest simulation results are already imported! Shape: (97321, 7)\n"
     ]
    }
   ],
   "source": [
    "mosaic.import_data()"
   ]
  },
  {
   "cell_type": "code",
   "execution_count": 5,
   "metadata": {
    "scrolled": false
   },
   "outputs": [
    {
     "name": "stdout",
     "output_type": "stream",
     "text": [
      "Total 200 vehicles in the simulation. (AdHoc: 100, Cellular: 60, Unequipped: 40)\n",
      "\n",
      "Statistics from Navigation.log file >>\n",
      "Total 138 vehicles got messages from the V2X network due to changing route.\n",
      "78 adhoc and 60 cellular vehicle(s) updated the route!\n",
      "\n",
      "Statistics from  Traffic.log file >>\n",
      "62 vehicle(s) passed through the hazardous zone.\n",
      "\n",
      "\n",
      "4511 messages transmitted by 22 Adhoc vehicle(s) and 295393 messages received by 100 Adhoc vehicle(s)\n",
      "500 messages transmitted by 0 Cellular vehicle(s) and 1 server(s) and 14778 messages received by 60 Cellular vehicle(s)\n",
      "\n",
      "\n",
      "Vehicle Class(es): ['HeavyGoodsVehicle']\n",
      "Total Emmission: 1635048.14 g CO2\n",
      "Average 8200.20 g CO2 released per vehicle\n"
     ]
    }
   ],
   "source": [
    "mosaic.evaluate_results()"
   ]
  },
  {
   "cell_type": "code",
   "execution_count": 6,
   "metadata": {},
   "outputs": [
    {
     "data": {
      "text/html": [
       "<div>\n",
       "<style scoped>\n",
       "    .dataframe tbody tr th:only-of-type {\n",
       "        vertical-align: middle;\n",
       "    }\n",
       "\n",
       "    .dataframe tbody tr th {\n",
       "        vertical-align: top;\n",
       "    }\n",
       "\n",
       "    .dataframe thead th {\n",
       "        text-align: right;\n",
       "    }\n",
       "</style>\n",
       "<table border=\"1\" class=\"dataframe\">\n",
       "  <thead>\n",
       "    <tr style=\"text-align: right;\">\n",
       "      <th></th>\n",
       "      <th>Event</th>\n",
       "      <th>Time</th>\n",
       "      <th>Name</th>\n",
       "      <th>MappingVehicleTypeVehicleClass</th>\n",
       "      <th>MappingGroup</th>\n",
       "    </tr>\n",
       "  </thead>\n",
       "  <tbody>\n",
       "    <tr>\n",
       "      <th>47</th>\n",
       "      <td>VEHICLE_REGISTRATION</td>\n",
       "      <td>5000000000</td>\n",
       "      <td>veh_0</td>\n",
       "      <td>HeavyGoodsVehicle</td>\n",
       "      <td>Cellular</td>\n",
       "    </tr>\n",
       "    <tr>\n",
       "      <th>51</th>\n",
       "      <td>VEHICLE_REGISTRATION</td>\n",
       "      <td>7000000000</td>\n",
       "      <td>veh_1</td>\n",
       "      <td>HeavyGoodsVehicle</td>\n",
       "      <td>AdHoc</td>\n",
       "    </tr>\n",
       "    <tr>\n",
       "      <th>55</th>\n",
       "      <td>VEHICLE_REGISTRATION</td>\n",
       "      <td>9000000000</td>\n",
       "      <td>veh_2</td>\n",
       "      <td>HeavyGoodsVehicle</td>\n",
       "      <td>Unequipped</td>\n",
       "    </tr>\n",
       "    <tr>\n",
       "      <th>58</th>\n",
       "      <td>VEHICLE_REGISTRATION</td>\n",
       "      <td>11000000000</td>\n",
       "      <td>veh_3</td>\n",
       "      <td>HeavyGoodsVehicle</td>\n",
       "      <td>AdHoc</td>\n",
       "    </tr>\n",
       "    <tr>\n",
       "      <th>62</th>\n",
       "      <td>VEHICLE_REGISTRATION</td>\n",
       "      <td>13000000000</td>\n",
       "      <td>veh_4</td>\n",
       "      <td>HeavyGoodsVehicle</td>\n",
       "      <td>Cellular</td>\n",
       "    </tr>\n",
       "    <tr>\n",
       "      <th>...</th>\n",
       "      <td>...</td>\n",
       "      <td>...</td>\n",
       "      <td>...</td>\n",
       "      <td>...</td>\n",
       "      <td>...</td>\n",
       "    </tr>\n",
       "    <tr>\n",
       "      <th>109194</th>\n",
       "      <td>VEHICLE_REGISTRATION</td>\n",
       "      <td>395000000000</td>\n",
       "      <td>veh_195</td>\n",
       "      <td>HeavyGoodsVehicle</td>\n",
       "      <td>AdHoc</td>\n",
       "    </tr>\n",
       "    <tr>\n",
       "      <th>110592</th>\n",
       "      <td>VEHICLE_REGISTRATION</td>\n",
       "      <td>397000000000</td>\n",
       "      <td>veh_196</td>\n",
       "      <td>HeavyGoodsVehicle</td>\n",
       "      <td>Unequipped</td>\n",
       "    </tr>\n",
       "    <tr>\n",
       "      <th>112003</th>\n",
       "      <td>VEHICLE_REGISTRATION</td>\n",
       "      <td>399000000000</td>\n",
       "      <td>veh_197</td>\n",
       "      <td>HeavyGoodsVehicle</td>\n",
       "      <td>AdHoc</td>\n",
       "    </tr>\n",
       "    <tr>\n",
       "      <th>113607</th>\n",
       "      <td>VEHICLE_REGISTRATION</td>\n",
       "      <td>401000000000</td>\n",
       "      <td>veh_198</td>\n",
       "      <td>HeavyGoodsVehicle</td>\n",
       "      <td>Cellular</td>\n",
       "    </tr>\n",
       "    <tr>\n",
       "      <th>115228</th>\n",
       "      <td>VEHICLE_REGISTRATION</td>\n",
       "      <td>403000000000</td>\n",
       "      <td>veh_199</td>\n",
       "      <td>HeavyGoodsVehicle</td>\n",
       "      <td>AdHoc</td>\n",
       "    </tr>\n",
       "  </tbody>\n",
       "</table>\n",
       "<p>200 rows × 5 columns</p>\n",
       "</div>"
      ],
      "text/plain": [
       "                       Event          Time     Name  \\\n",
       "47      VEHICLE_REGISTRATION    5000000000    veh_0   \n",
       "51      VEHICLE_REGISTRATION    7000000000    veh_1   \n",
       "55      VEHICLE_REGISTRATION    9000000000    veh_2   \n",
       "58      VEHICLE_REGISTRATION   11000000000    veh_3   \n",
       "62      VEHICLE_REGISTRATION   13000000000    veh_4   \n",
       "...                      ...           ...      ...   \n",
       "109194  VEHICLE_REGISTRATION  395000000000  veh_195   \n",
       "110592  VEHICLE_REGISTRATION  397000000000  veh_196   \n",
       "112003  VEHICLE_REGISTRATION  399000000000  veh_197   \n",
       "113607  VEHICLE_REGISTRATION  401000000000  veh_198   \n",
       "115228  VEHICLE_REGISTRATION  403000000000  veh_199   \n",
       "\n",
       "       MappingVehicleTypeVehicleClass MappingGroup  \n",
       "47                  HeavyGoodsVehicle     Cellular  \n",
       "51                  HeavyGoodsVehicle        AdHoc  \n",
       "55                  HeavyGoodsVehicle   Unequipped  \n",
       "58                  HeavyGoodsVehicle        AdHoc  \n",
       "62                  HeavyGoodsVehicle     Cellular  \n",
       "...                               ...          ...  \n",
       "109194              HeavyGoodsVehicle        AdHoc  \n",
       "110592              HeavyGoodsVehicle   Unequipped  \n",
       "112003              HeavyGoodsVehicle        AdHoc  \n",
       "113607              HeavyGoodsVehicle     Cellular  \n",
       "115228              HeavyGoodsVehicle        AdHoc  \n",
       "\n",
       "[200 rows x 5 columns]"
      ]
     },
     "execution_count": 6,
     "metadata": {},
     "output_type": "execute_result"
    }
   ],
   "source": [
    "# Full List of Vehicles Classes and Mapping Groups\n",
    "mosaic.df_vehicle_registration"
   ]
  }
 ],
 "metadata": {
  "kernelspec": {
   "display_name": "Python 3 (ipykernel)",
   "language": "python",
   "name": "python3"
  },
  "language_info": {
   "codemirror_mode": {
    "name": "ipython",
    "version": 3
   },
   "file_extension": ".py",
   "mimetype": "text/x-python",
   "name": "python",
   "nbconvert_exporter": "python",
   "pygments_lexer": "ipython3",
   "version": "3.10.4"
  }
 },
 "nbformat": 4,
 "nbformat_minor": 4
}
