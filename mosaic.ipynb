{
 "cells": [
  {
   "cell_type": "markdown",
   "metadata": {},
   "source": [
    "# CRITICAL INFRASTRUCTURE AND DIGITALISATION\n",
    "\n",
    "## Workshop 2: Simulation Mobility Systems\n",
    "\n",
    "Welcome to the 2nd Workshop!\n",
    "\n",
    "This notebook is used to collect meaningful data from the simulation you will run during the workshop. The python script is structured in an object oriented way, meaning that dataframes imported from log documents are stored in a 'mosaic' object. If you think you have a good command of the programming language, you can call and manipulate them repeatedly on a new cell of jupyter notebook. \n",
    "The data we provide you with will be largely sufficient for this workshop, so you are not expected to manipulate the data again, but rather to observe how parameter changes affect the results.  However, if during your research you notice a data set with a different structure, you can edit or calculate it on this notebook.\n",
    "\n",
    "For questions, troubleshooting and bugs please reach out to Muzaffer Citir (muzaffer.citir@campus.tu-berlin.de) or Philipp Wiesner (wiesner@tu-berlin.de)"
   ]
  },
  {
   "cell_type": "code",
   "execution_count": 11,
   "metadata": {},
   "outputs": [],
   "source": [
    "import os\n",
    "import pandas as pd\n",
    "from cid_mosaic import Mosaic\n",
    "\n",
    "import matplotlib\n",
    "import matplotlib.pyplot as plt\n",
    "import seaborn as sns"
   ]
  },
  {
   "cell_type": "markdown",
   "metadata": {},
   "source": [
    "Initialize the toolbox using the absolute path to your Eclipse MOSAIC installation."
   ]
  },
  {
   "cell_type": "code",
   "execution_count": 2,
   "metadata": {},
   "outputs": [
    {
     "name": "stdout",
     "output_type": "stream",
     "text": [
      "The path for the logs: /Users/philippwiesner/Dev/cid-mobility-workshop/eclipse-mosaic-22.0/logs\n",
      "Log List size is 20\n",
      "Loading latest simulation result 'log-20220620-152435-Barnim'\n"
     ]
    }
   ],
   "source": [
    "mosaic = Mosaic(mosaic_path=os.path.join(os.getcwd(), \"eclipse-mosaic-22.0\"))"
   ]
  },
  {
   "cell_type": "markdown",
   "metadata": {},
   "source": [
    "The method `run_simulation()` will run the selected simulation and display the terminal output in the notebook.\n",
    "\n",
    "- If you set `visualize=True`, the Mosaic visualizer will open in a new tab. Setting `visualize=False` might improve simulation speed.\n",
    "- If you set a `sim_speed`, the simulation will be slowed down to a desired Real Time Factor. For example, use `sim_speed=1` to execute the simulation in real time or `sim_speed=10` to execute ten times faster than real time. `sim_speed=None` executes simulations as fast as possible."
   ]
  },
  {
   "cell_type": "code",
   "execution_count": 3,
   "metadata": {
    "scrolled": true
   },
   "outputs": [
    {
     "name": "stdout",
     "output_type": "stream",
     "text": [
      "Running: ./mosaic.sh -s Barnim\n",
      "2022-06-20 15:29:30,885 INFO  ROOT - Running Eclipse MOSAIC 22.0 on Java JRE v18.0.1.1 (Homebrew)\n",
      "2022-06-20 15:29:30,963 INFO  FederationManagement - Start federation with id 'Barnim'\n",
      "2022-06-20 15:29:30,963 INFO  FederationManagement - Add ambassador/federate with id 'application'\n",
      "2022-06-20 15:29:30,963 INFO  FederationManagement - Add ambassador/federate with id 'environment'\n",
      "2022-06-20 15:29:30,964 INFO  FederationManagement - Add ambassador/federate with id 'mapping'\n",
      "2022-06-20 15:29:30,964 INFO  FederationManagement - Add ambassador/federate with id 'cell'\n",
      "2022-06-20 15:29:30,964 INFO  FederationManagement - Add ambassador/federate with id 'sns'\n",
      "2022-06-20 15:29:30,964 INFO  FederationManagement - Add ambassador/federate with id 'sumo'\n",
      "2022-06-20 15:29:30,964 INFO  FederationManagement - Deploying federate 'sumo' locally in ./tmp/sumo\n",
      "2022-06-20 15:29:30,973 INFO  FederationManagement - Starting federate 'sumo' locally in ./tmp/sumo\n",
      "2022-06-20 15:29:30,973 INFO  FederationManagement - Add ambassador/federate with id 'output'\n",
      "15:29:41 - Simulating: 1000000000000ns (1000.0s) - 100.0%                                                       \n",
      "2022-06-20 15:29:41,907 INFO  SequentialTimeManagement - Simulation ended after 1000s of 1000s (100%)\n",
      "2022-06-20 15:29:41,907 INFO  SequentialTimeManagement - Started: 2022-06-20 15:29:31\n",
      "2022-06-20 15:29:41,907 INFO  SequentialTimeManagement - Ended: 2022-06-20 15:29:41\n",
      "2022-06-20 15:29:41,908 INFO  SequentialTimeManagement - Duration: 00h 00m 10.061s (RTF: 99.00)\n",
      "2022-06-20 15:29:41,908 INFO  SequentialTimeManagement - \n",
      "2022-06-20 15:29:41,908 INFO  SequentialTimeManagement - Simulation finished: 101\n",
      "\n",
      "The path for the logs: /Users/philippwiesner/Dev/cid-mobility-workshop/eclipse-mosaic-22.0/logs\n",
      "Log List size is 21\n",
      "Loading latest simulation result 'log-20220620-152930-Barnim'\n"
     ]
    }
   ],
   "source": [
    "mosaic.run_simulation(visualize=False, sim_speed=None)"
   ]
  },
  {
   "cell_type": "code",
   "execution_count": 4,
   "metadata": {},
   "outputs": [
    {
     "data": {
      "text/html": [
       "<div>\n",
       "<style scoped>\n",
       "    .dataframe tbody tr th:only-of-type {\n",
       "        vertical-align: middle;\n",
       "    }\n",
       "\n",
       "    .dataframe tbody tr th {\n",
       "        vertical-align: top;\n",
       "    }\n",
       "\n",
       "    .dataframe thead th {\n",
       "        text-align: right;\n",
       "    }\n",
       "</style>\n",
       "<table border=\"1\" class=\"dataframe\">\n",
       "  <thead>\n",
       "    <tr style=\"text-align: right;\">\n",
       "      <th></th>\n",
       "      <th>Event</th>\n",
       "      <th>Time</th>\n",
       "      <th>Name</th>\n",
       "      <th>RouteId</th>\n",
       "      <th>RoadPositionLaneIndex</th>\n",
       "      <th>VehicleEmissionsCurrentEmissionsCo2</th>\n",
       "      <th>VehicleEmissionsAllEmissionsCo2</th>\n",
       "    </tr>\n",
       "  </thead>\n",
       "  <tbody>\n",
       "    <tr>\n",
       "      <th>51</th>\n",
       "      <td>VEHICLE_UPDATES</td>\n",
       "      <td>7000000000</td>\n",
       "      <td>veh_0</td>\n",
       "      <td>2.0</td>\n",
       "      <td>0.0</td>\n",
       "      <td>0.000000</td>\n",
       "      <td>24964.119444</td>\n",
       "    </tr>\n",
       "    <tr>\n",
       "      <th>53</th>\n",
       "      <td>VEHICLE_UPDATES</td>\n",
       "      <td>8000000000</td>\n",
       "      <td>veh_0</td>\n",
       "      <td>2.0</td>\n",
       "      <td>0.0</td>\n",
       "      <td>42599.748257</td>\n",
       "      <td>67563.867702</td>\n",
       "    </tr>\n",
       "    <tr>\n",
       "      <th>57</th>\n",
       "      <td>VEHICLE_UPDATES</td>\n",
       "      <td>9000000000</td>\n",
       "      <td>veh_0</td>\n",
       "      <td>2.0</td>\n",
       "      <td>0.0</td>\n",
       "      <td>79850.351684</td>\n",
       "      <td>147414.219386</td>\n",
       "    </tr>\n",
       "    <tr>\n",
       "      <th>58</th>\n",
       "      <td>VEHICLE_UPDATES</td>\n",
       "      <td>9000000000</td>\n",
       "      <td>veh_1</td>\n",
       "      <td>1.0</td>\n",
       "      <td>1.0</td>\n",
       "      <td>0.000000</td>\n",
       "      <td>24964.119444</td>\n",
       "    </tr>\n",
       "    <tr>\n",
       "      <th>60</th>\n",
       "      <td>VEHICLE_UPDATES</td>\n",
       "      <td>10000000000</td>\n",
       "      <td>veh_0</td>\n",
       "      <td>2.0</td>\n",
       "      <td>0.0</td>\n",
       "      <td>0.000000</td>\n",
       "      <td>147414.219386</td>\n",
       "    </tr>\n",
       "  </tbody>\n",
       "</table>\n",
       "</div>"
      ],
      "text/plain": [
       "              Event         Time   Name  RouteId  RoadPositionLaneIndex  \\\n",
       "51  VEHICLE_UPDATES   7000000000  veh_0      2.0                    0.0   \n",
       "53  VEHICLE_UPDATES   8000000000  veh_0      2.0                    0.0   \n",
       "57  VEHICLE_UPDATES   9000000000  veh_0      2.0                    0.0   \n",
       "58  VEHICLE_UPDATES   9000000000  veh_1      1.0                    1.0   \n",
       "60  VEHICLE_UPDATES  10000000000  veh_0      2.0                    0.0   \n",
       "\n",
       "    VehicleEmissionsCurrentEmissionsCo2  VehicleEmissionsAllEmissionsCo2  \n",
       "51                             0.000000                     24964.119444  \n",
       "53                         42599.748257                     67563.867702  \n",
       "57                         79850.351684                    147414.219386  \n",
       "58                             0.000000                     24964.119444  \n",
       "60                             0.000000                    147414.219386  "
      ]
     },
     "execution_count": 4,
     "metadata": {},
     "output_type": "execute_result"
    }
   ],
   "source": [
    "result = mosaic.import_data()\n",
    "result.df_vehicle_updates.head()"
   ]
  },
  {
   "cell_type": "code",
   "execution_count": 5,
   "metadata": {},
   "outputs": [
    {
     "name": "stdout",
     "output_type": "stream",
     "text": [
      "Total 200 vehicles in the simulation. (AdHoc: 100, Cellular: 60, Unequipped: 40)\n",
      "\n",
      "Statistics from Navigation.log file\n",
      "- Total 138 vehicles got messages from the V2X network due to changing route.\n",
      "- 78 adhoc and 60 cellular vehicle(s) updated the route!\n",
      "\n",
      "Statistics from  Traffic.log file\n",
      "- 62 vehicle(s) passed through the hazardous zone.\n"
     ]
    }
   ],
   "source": [
    "cumulative_df = pd.merge(result.df_vehicle_updates, result.df_vehicle_registration[['Name','MappingGroup']], how='left')\n",
    "cumulative_df = pd.merge(cumulative_df, result.df_vehicle_registration[['Name','MappingVehicleTypeVehicleClass']], how='left')\n",
    "all_vehicles = result.df_vehicle_registration.Name.unique().tolist()\n",
    "adhoc_vehicles = cumulative_df.loc[cumulative_df['MappingGroup']=='AdHoc'].Name.unique().tolist()\n",
    "cellular_vehicles = cumulative_df.loc[cumulative_df['MappingGroup']=='Cellular'].Name.unique().tolist()\n",
    "unequipped_vehicles = cumulative_df.loc[cumulative_df['MappingGroup']=='Unequipped'].Name.unique().tolist()\n",
    "vehicles_having_routeId_2 = cumulative_df.loc[cumulative_df['RouteId']==2.0].Name.unique().tolist()\n",
    "cellular_vehicles_having_routeId_2 = cumulative_df.loc[(cumulative_df['RouteId']==2.0) & (cumulative_df['MappingGroup']=='Cellular')].Name.unique().tolist()\n",
    "adhoc_vehicles_having_routeId_2 = cumulative_df.loc[(cumulative_df['RouteId']==2.0) & (cumulative_df['MappingGroup']=='AdHoc')].Name.unique().tolist()\n",
    "\n",
    "# Calculate how many vehicles alread got messages from the V2X network\n",
    "list_of_vehicles_got_message = result.df_navigation_log['Vehicles_List'].values\n",
    "\n",
    "# Calculate how many vehicles already set the 'targetSpeed=6.94'\n",
    "list_of_vehicles_past_through_hazardous_zone = result.df_traffic_log[14].loc[result.df_traffic_log[15].str.contains('targetSpeed=6.94')==True]\n",
    "\n",
    "# Print Info\n",
    "print(f\"Total {len(all_vehicles)} vehicles in the simulation. (AdHoc: {len(adhoc_vehicles)}, Cellular: {len(cellular_vehicles)}, Unequipped: {len(unequipped_vehicles)})\")\n",
    "print(f\"\\nStatistics from Navigation.log file\")\n",
    "print(f\"- Total {len(list_of_vehicles_got_message.tolist())} vehicles got messages from the V2X network due to changing route.\")\n",
    "print(f\"- {len(adhoc_vehicles_having_routeId_2)} adhoc and {len(cellular_vehicles_having_routeId_2)} cellular vehicle(s) updated the route!\")\n",
    "print(f\"\\nStatistics from  Traffic.log file\")\n",
    "print(f\"- {len(list_of_vehicles_past_through_hazardous_zone)} vehicle(s) passed through the hazardous zone.\")\n"
   ]
  },
  {
   "cell_type": "code",
   "execution_count": 6,
   "metadata": {},
   "outputs": [
    {
     "name": "stdout",
     "output_type": "stream",
     "text": [
      "\n",
      "Adhoc\n",
      "- 4511 messages transmitted by 22 Adhoc vehicle(s)\n",
      "- 295393 messages received by 100 Adhoc vehicle(s)\n",
      "\n",
      "Cellular\n",
      "- 500 messages transmitted by 0 Cellular vehicle(s)\n",
      "- 1 server(s) and 14778 messages received by 60 Cellular vehicle(s)\n"
     ]
    }
   ],
   "source": [
    "adhoc_transmitter = result.df_v2x_message_transmission.loc[result.df_v2x_message_transmission['MessageRoutingDestinationType'] == 'AD_HOC_GEOCAST']\n",
    "cellular_transmitter = result.df_v2x_message_transmission.loc[result.df_v2x_message_transmission['MessageRoutingDestinationType'] == 'CELL_GEOCAST']\n",
    "all_receiver = pd.merge(result.df_v2x_message_reception, result.df_vehicle_registration[['Name','MappingGroup']], how='left')\n",
    "adhoc_receiver = all_receiver.loc[all_receiver['MappingGroup']=='AdHoc']\n",
    "cellular_receiver = all_receiver.loc[all_receiver['MappingGroup']=='Cellular']\n",
    "\n",
    "print(\"\\nAdhoc\")\n",
    "print(f\"- {adhoc_transmitter.groupby(['Name']).size().sum()} messages transmitted by {adhoc_transmitter.groupby(['Name']).size().count()} Adhoc vehicle(s)\")\n",
    "print(f\"- {adhoc_receiver.groupby(['Name']).size().sum()} messages received by {adhoc_receiver.groupby(['Name']).size().count()} Adhoc vehicle(s)\")\n",
    "\n",
    "print(\"\\nCellular\")\n",
    "if cellular_transmitter.loc[cellular_transmitter.Name.str.contains('server')].Name.nunique() > 0:\n",
    "    print(f\"- {cellular_transmitter.groupby(['Name']).size().sum()} messages transmitted by {cellular_transmitter.Name.nunique() - cellular_transmitter.loc[cellular_transmitter.Name.str.contains('server')].Name.nunique()} Cellular vehicle(s)\")\n",
    "    print(f\"- {cellular_transmitter.loc[cellular_transmitter.Name.str.contains('server')].Name.nunique()} server(s) and {cellular_receiver.groupby(['Name']).size().sum()} messages received by {cellular_receiver.groupby(['Name']).size().count()} Cellular vehicle(s)\")\n",
    "else:\n",
    "    print(f\"- {cellular_transmitter.groupby(['Name']).size().sum()} messages transmitted by {cellular_transmitter.Name.nunique()} Cellular vehicle(s)\")\n",
    "    print(f\"- {cellular_receiver.groupby(['Name']).size().sum()} messages received by {cellular_receiver.groupby(['Name']).size().count()} Cellular vehicle(s)\")\n"
   ]
  },
  {
   "cell_type": "code",
   "execution_count": 7,
   "metadata": {},
   "outputs": [
    {
     "name": "stdout",
     "output_type": "stream",
     "text": [
      "\n",
      "Vehicle Class(es): ['HeavyGoodsVehicle']\n",
      "Total Emmission: 1635048.14 g CO2\n",
      "Average 8200.20 g CO2 released per vehicle\n"
     ]
    }
   ],
   "source": [
    "# Statistics of Vehicles Classes and CO2 Emissions\n",
    "print(f\"\\nVehicle Class(es): {cumulative_df['MappingVehicleTypeVehicleClass'].unique()}\")\n",
    "print(\"Total Emmission: {:.2f} g CO2\".format(cumulative_df['VehicleEmissionsCurrentEmissionsCo2'].sum()/1000))\n",
    "print(\"Average {:.2f} g CO2 released per vehicle\".format(cumulative_df[['Name','VehicleEmissionsAllEmissionsCo2']].groupby(['Name']).max().mean()[0]/1000))"
   ]
  },
  {
   "cell_type": "code",
   "execution_count": 26,
   "metadata": {},
   "outputs": [
    {
     "data": {
      "text/html": [
       "<div>\n",
       "<style scoped>\n",
       "    .dataframe tbody tr th:only-of-type {\n",
       "        vertical-align: middle;\n",
       "    }\n",
       "\n",
       "    .dataframe tbody tr th {\n",
       "        vertical-align: top;\n",
       "    }\n",
       "\n",
       "    .dataframe thead th {\n",
       "        text-align: right;\n",
       "    }\n",
       "</style>\n",
       "<table border=\"1\" class=\"dataframe\">\n",
       "  <thead>\n",
       "    <tr style=\"text-align: right;\">\n",
       "      <th></th>\n",
       "      <th>Event</th>\n",
       "      <th>Time</th>\n",
       "      <th>Name</th>\n",
       "      <th>MappingVehicleTypeVehicleClass</th>\n",
       "      <th>MappingGroup</th>\n",
       "    </tr>\n",
       "  </thead>\n",
       "  <tbody>\n",
       "    <tr>\n",
       "      <th>47</th>\n",
       "      <td>VEHICLE_REGISTRATION</td>\n",
       "      <td>5000000000</td>\n",
       "      <td>veh_0</td>\n",
       "      <td>HeavyGoodsVehicle</td>\n",
       "      <td>Cellular</td>\n",
       "    </tr>\n",
       "    <tr>\n",
       "      <th>51</th>\n",
       "      <td>VEHICLE_REGISTRATION</td>\n",
       "      <td>7000000000</td>\n",
       "      <td>veh_1</td>\n",
       "      <td>HeavyGoodsVehicle</td>\n",
       "      <td>AdHoc</td>\n",
       "    </tr>\n",
       "    <tr>\n",
       "      <th>55</th>\n",
       "      <td>VEHICLE_REGISTRATION</td>\n",
       "      <td>9000000000</td>\n",
       "      <td>veh_2</td>\n",
       "      <td>HeavyGoodsVehicle</td>\n",
       "      <td>Unequipped</td>\n",
       "    </tr>\n",
       "    <tr>\n",
       "      <th>58</th>\n",
       "      <td>VEHICLE_REGISTRATION</td>\n",
       "      <td>11000000000</td>\n",
       "      <td>veh_3</td>\n",
       "      <td>HeavyGoodsVehicle</td>\n",
       "      <td>AdHoc</td>\n",
       "    </tr>\n",
       "    <tr>\n",
       "      <th>62</th>\n",
       "      <td>VEHICLE_REGISTRATION</td>\n",
       "      <td>13000000000</td>\n",
       "      <td>veh_4</td>\n",
       "      <td>HeavyGoodsVehicle</td>\n",
       "      <td>Cellular</td>\n",
       "    </tr>\n",
       "  </tbody>\n",
       "</table>\n",
       "</div>"
      ],
      "text/plain": [
       "                   Event         Time   Name MappingVehicleTypeVehicleClass  \\\n",
       "47  VEHICLE_REGISTRATION   5000000000  veh_0              HeavyGoodsVehicle   \n",
       "51  VEHICLE_REGISTRATION   7000000000  veh_1              HeavyGoodsVehicle   \n",
       "55  VEHICLE_REGISTRATION   9000000000  veh_2              HeavyGoodsVehicle   \n",
       "58  VEHICLE_REGISTRATION  11000000000  veh_3              HeavyGoodsVehicle   \n",
       "62  VEHICLE_REGISTRATION  13000000000  veh_4              HeavyGoodsVehicle   \n",
       "\n",
       "   MappingGroup  \n",
       "47     Cellular  \n",
       "51        AdHoc  \n",
       "55   Unequipped  \n",
       "58        AdHoc  \n",
       "62     Cellular  "
      ]
     },
     "execution_count": 26,
     "metadata": {},
     "output_type": "execute_result"
    }
   ],
   "source": [
    "# Full List of Vehicles Classes and Mapping Groups\n",
    "result.df_vehicle_registration.head()"
   ]
  },
  {
   "cell_type": "markdown",
   "metadata": {},
   "source": [
    "# Plotting Example"
   ]
  },
  {
   "cell_type": "code",
   "execution_count": 27,
   "metadata": {},
   "outputs": [
    {
     "data": {
      "text/html": [
       "<div>\n",
       "<style scoped>\n",
       "    .dataframe tbody tr th:only-of-type {\n",
       "        vertical-align: middle;\n",
       "    }\n",
       "\n",
       "    .dataframe tbody tr th {\n",
       "        vertical-align: top;\n",
       "    }\n",
       "\n",
       "    .dataframe thead th {\n",
       "        text-align: right;\n",
       "    }\n",
       "</style>\n",
       "<table border=\"1\" class=\"dataframe\">\n",
       "  <thead>\n",
       "    <tr style=\"text-align: right;\">\n",
       "      <th></th>\n",
       "      <th>Event</th>\n",
       "      <th>Time</th>\n",
       "      <th>ReceiverType</th>\n",
       "      <th>ReceiverMessageId</th>\n",
       "      <th>Name</th>\n",
       "      <th>ReceiverInformationReceiveSignalStrength</th>\n",
       "      <th>MappingGroup</th>\n",
       "    </tr>\n",
       "  </thead>\n",
       "  <tbody>\n",
       "    <tr>\n",
       "      <th>240</th>\n",
       "      <td>V2X_MESSAGE_RECEPTION</td>\n",
       "      <td>83012006218</td>\n",
       "      <td>Denm</td>\n",
       "      <td>42</td>\n",
       "      <td>veh_17</td>\n",
       "      <td>0.0</td>\n",
       "      <td>AdHoc</td>\n",
       "    </tr>\n",
       "    <tr>\n",
       "      <th>241</th>\n",
       "      <td>V2X_MESSAGE_RECEPTION</td>\n",
       "      <td>83012838640</td>\n",
       "      <td>Denm</td>\n",
       "      <td>42</td>\n",
       "      <td>veh_29</td>\n",
       "      <td>0.0</td>\n",
       "      <td>AdHoc</td>\n",
       "    </tr>\n",
       "    <tr>\n",
       "      <th>242</th>\n",
       "      <td>V2X_MESSAGE_RECEPTION</td>\n",
       "      <td>83014437142</td>\n",
       "      <td>Denm</td>\n",
       "      <td>42</td>\n",
       "      <td>veh_9</td>\n",
       "      <td>0.0</td>\n",
       "      <td>AdHoc</td>\n",
       "    </tr>\n",
       "    <tr>\n",
       "      <th>243</th>\n",
       "      <td>V2X_MESSAGE_RECEPTION</td>\n",
       "      <td>83015899489</td>\n",
       "      <td>Denm</td>\n",
       "      <td>42</td>\n",
       "      <td>veh_15</td>\n",
       "      <td>0.0</td>\n",
       "      <td>AdHoc</td>\n",
       "    </tr>\n",
       "    <tr>\n",
       "      <th>244</th>\n",
       "      <td>V2X_MESSAGE_RECEPTION</td>\n",
       "      <td>83016744092</td>\n",
       "      <td>Denm</td>\n",
       "      <td>42</td>\n",
       "      <td>veh_37</td>\n",
       "      <td>0.0</td>\n",
       "      <td>AdHoc</td>\n",
       "    </tr>\n",
       "  </tbody>\n",
       "</table>\n",
       "</div>"
      ],
      "text/plain": [
       "                     Event         Time ReceiverType ReceiverMessageId  \\\n",
       "240  V2X_MESSAGE_RECEPTION  83012006218         Denm                42   \n",
       "241  V2X_MESSAGE_RECEPTION  83012838640         Denm                42   \n",
       "242  V2X_MESSAGE_RECEPTION  83014437142         Denm                42   \n",
       "243  V2X_MESSAGE_RECEPTION  83015899489         Denm                42   \n",
       "244  V2X_MESSAGE_RECEPTION  83016744092         Denm                42   \n",
       "\n",
       "       Name  ReceiverInformationReceiveSignalStrength MappingGroup  \n",
       "240  veh_17                                       0.0        AdHoc  \n",
       "241  veh_29                                       0.0        AdHoc  \n",
       "242   veh_9                                       0.0        AdHoc  \n",
       "243  veh_15                                       0.0        AdHoc  \n",
       "244  veh_37                                       0.0        AdHoc  "
      ]
     },
     "execution_count": 27,
     "metadata": {},
     "output_type": "execute_result"
    }
   ],
   "source": [
    "adhoc_receiver.head()"
   ]
  },
  {
   "cell_type": "code",
   "execution_count": 29,
   "metadata": {},
   "outputs": [
    {
     "data": {
      "text/plain": [
       "<AxesSubplot:xlabel='Time', ylabel='Count'>"
      ]
     },
     "execution_count": 29,
     "metadata": {},
     "output_type": "execute_result"
    },
    {
     "data": {
      "image/png": "[encoded data removed]",
      "text/plain": [
       "<Figure size 432x288 with 1 Axes>"
      ]
     },
     "metadata": {
      "needs_background": "light"
     },
     "output_type": "display_data"
    }
   ],
   "source": [
    "sns.histplot(data=adhoc_receiver, x=\"Time\")"
   ]
  },
  {
   "cell_type": "code",
   "execution_count": 30,
   "metadata": {},
   "outputs": [
    {
     "data": {
      "text/plain": [
       "<AxesSubplot:xlabel='Time', ylabel='Count'>"
      ]
     },
     "execution_count": 30,
     "metadata": {},
     "output_type": "execute_result"
    },
    {
     "data": {
      "image/png": "[encoded data removed]",
      "text/plain": [
       "<Figure size 432x288 with 1 Axes>"
      ]
     },
     "metadata": {
      "needs_background": "light"
     },
     "output_type": "display_data"
    }
   ],
   "source": [
    "sns.histplot(data=cellular_receiver, x=\"Time\")"
   ]
  },
  {
   "cell_type": "code",
   "execution_count": null,
   "metadata": {},
   "outputs": [],
   "source": []
  }
 ],
 "metadata": {
  "kernelspec": {
   "display_name": "Python 3 (ipykernel)",
   "language": "python",
   "name": "python3"
  },
  "language_info": {
   "codemirror_mode": {
    "name": "ipython",
    "version": 3
   },
   "file_extension": ".py",
   "mimetype": "text/x-python",
   "name": "python",
   "nbconvert_exporter": "python",
   "pygments_lexer": "ipython3",
   "version": "3.8.12"
  }
 },
 "nbformat": 4,
 "nbformat_minor": 4
}
