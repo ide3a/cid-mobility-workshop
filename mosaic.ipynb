{
 "cells": [
  {
   "cell_type": "markdown",
   "metadata": {},
   "source": [
    "# CRITICAL INFRASTRUCTURE AND DIGITALISATION\n",
    "## Simulation Mobility Systems\n",
    "\n",
    "Welcome to the 2nd Workshop!\n",
    "\n",
    "This notebook is used to collect meaningful data from the simulation you will run during the workshop. The python script is structured in an object oriented way, meaning that dataframes imported from log documents are stored in a 'mosaic' object. If you think you have a good command of the programming language, you can call and manipulate them repeatedly on a new cell of jupyter notebook. \n",
    "The data we provide you with will be largely sufficient for this workshop, so you are not expected to manipulate the data again, but rather to observe how parameter changes affect the results.  However, if during your research you notice a data set with a different structure, you can edit or calculate it on this notebook.\n",
    "\n",
    "For questions, troubleshooting and bugs please reach out to Muzaffer Citir (muzaffer.citir@campus.tu-berlin.de) or Philipp Wiesner (wiesner@tu-berlin.de)"
   ]
  },
  {
   "cell_type": "code",
   "execution_count": 1,
   "metadata": {},
   "outputs": [],
   "source": [
    "from cid_mosaic import Mosaic"
   ]
  },
  {
   "cell_type": "markdown",
   "metadata": {},
   "source": [
    "Initialize the toolbox using the absolute path to your Eclipse MOSAIC installation."
   ]
  },
  {
   "cell_type": "code",
   "execution_count": 2,
   "metadata": {},
   "outputs": [
    {
     "name": "stdout",
     "output_type": "stream",
     "text": [
      "The path for the logs: eclipse-mosaic-22.0/logs\n",
      "Log List size is 3\n",
      "Loading latest simulation result 'log-20220616-164329-Barnim'\n"
     ]
    }
   ],
   "source": [
    "mosaic = Mosaic(\"eclipse-mosaic-22.0\")"
   ]
  },
  {
   "cell_type": "markdown",
   "metadata": {},
   "source": [
    "The method `run_simulation()` will run the selected simulation and display the terminal output in the notebook.\n",
    "\n",
    "- If you set `visualize=True`, the Mosaic visualizer will open in a new tab.\n",
    "- If you set a `sim_speed`, the simulation will be slowed down to a desired Real Time Factor. For example, use `sim_speed=1` to execute the simulation in real time."
   ]
  },
  {
   "cell_type": "code",
   "execution_count": null,
   "metadata": {
    "scrolled": true
   },
   "outputs": [
    {
     "name": "stdout",
     "output_type": "stream",
     "text": [
      "Running: ./mosaic.sh -s Barnim -v in eclipse-mosaic-22.0\n"
     ]
    }
   ],
   "source": [
    "mosaic.run_simulation(visualize=True, sim_speed=None)"
   ]
  },
  {
   "cell_type": "code",
   "execution_count": null,
   "metadata": {},
   "outputs": [],
   "source": [
    "mosaic.import_data()"
   ]
  },
  {
   "cell_type": "code",
   "execution_count": null,
   "metadata": {},
   "outputs": [],
   "source": [
    "mosaic.evaluate_results()"
   ]
  },
  {
   "cell_type": "code",
   "execution_count": null,
   "metadata": {},
   "outputs": [],
   "source": [
    "# Full List of Vehicles Classes and Mapping Groups\n",
    "mosaic.df_vehicle_registration"
   ]
  }
 ],
 "metadata": {
  "kernelspec": {
   "display_name": "Python 3 (ipykernel)",
   "language": "python",
   "name": "python3"
  },
  "language_info": {
   "codemirror_mode": {
    "name": "ipython",
    "version": 3
   },
   "file_extension": ".py",
   "mimetype": "text/x-python",
   "name": "python",
   "nbconvert_exporter": "python",
   "pygments_lexer": "ipython3",
   "version": "3.8.10"
  }
 },
 "nbformat": 4,
 "nbformat_minor": 4
}